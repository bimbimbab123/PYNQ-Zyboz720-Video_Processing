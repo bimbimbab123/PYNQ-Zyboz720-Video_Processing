{
 "cells": [
  {
   "cell_type": "markdown",
   "metadata": {
    "collapsed": true
   },
   "source": [
    "# Test GPIOS for base overlay\n",
    "## Tested on Zybo-Z7\n"
   ]
  },
  {
   "cell_type": "code",
   "execution_count": 1,
   "metadata": {},
   "outputs": [
    {
     "data": {
      "application/javascript": [
       "\n",
       "try {\n",
       "require(['notebook/js/codecell'], function(codecell) {\n",
       "  codecell.CodeCell.options_default.highlight_modes[\n",
       "      'magic_text/x-csrc'] = {'reg':[/^%%microblaze/]};\n",
       "  Jupyter.notebook.events.one('kernel_ready.Kernel', function(){\n",
       "      Jupyter.notebook.get_cells().map(function(cell){\n",
       "          if (cell.cell_type == 'code'){ cell.auto_highlight(); } }) ;\n",
       "  });\n",
       "});\n",
       "} catch (e) {};\n"
      ]
     },
     "metadata": {},
     "output_type": "display_data"
    },
    {
     "data": {
      "application/javascript": [
       "\n",
       "try {\n",
       "require(['notebook/js/codecell'], function(codecell) {\n",
       "  codecell.CodeCell.options_default.highlight_modes[\n",
       "      'magic_text/x-csrc'] = {'reg':[/^%%pybind11/]};\n",
       "  Jupyter.notebook.events.one('kernel_ready.Kernel', function(){\n",
       "      Jupyter.notebook.get_cells().map(function(cell){\n",
       "          if (cell.cell_type == 'code'){ cell.auto_highlight(); } }) ;\n",
       "  });\n",
       "});\n",
       "} catch (e) {};\n"
      ]
     },
     "metadata": {},
     "output_type": "display_data"
    }
   ],
   "source": [
    "# import libraries\n",
    "from time import sleep\n",
    "from pynq.overlays.base import BaseOverlay"
   ]
  },
  {
   "cell_type": "code",
   "execution_count": 2,
   "metadata": {},
   "outputs": [],
   "source": [
    "# Program base overlay \n",
    "base = BaseOverlay(\"/home/xilinx/pynq/overlays/base/base.bit\");"
   ]
  },
  {
   "cell_type": "code",
   "execution_count": 3,
   "metadata": {},
   "outputs": [],
   "source": [
    "# Create objects for each GPIO \n",
    "rgbleds = [base.rgbleds[i]  for i in range(4, 6)];\n",
    "leds    = [base.leds[i]     for i in range(4)];\n",
    "sws     = [base.switches[i] for i in range(2)];\n",
    "btns    = [base.buttons[i]  for i in range(4)];"
   ]
  },
  {
   "cell_type": "code",
   "execution_count": 4,
   "metadata": {},
   "outputs": [
    {
     "name": "stdout",
     "output_type": "stream",
     "text": [
      "<pynq.lib.rgbled.RGBLED object at 0xaf61b238>\n",
      "<pynq.lib.rgbled.RGBLED object at 0xb5042580>\n"
     ]
    }
   ],
   "source": [
    "# Testing rgb leds\n",
    "[print(rgbled) for rgbled in rgbleds]\n",
    "for i in range(8):\n",
    "    rgbleds[0].on(i);\n",
    "    rgbleds[1].on(i);\n",
    "    sleep(0.4);\n",
    "rgbleds[0].off();\n",
    "rgbleds[1].off();\n"
   ]
  },
  {
   "cell_type": "code",
   "execution_count": 5,
   "metadata": {},
   "outputs": [],
   "source": [
    "# Testing leds\n",
    "for i in range(4):\n",
    "    leds[0].on();  leds[1].off(); leds[2].on();  leds[3].off();\n",
    "    sleep(0.4);\n",
    "    leds[0].off(); leds[1].on();  leds[2].off(); leds[3].on();\n",
    "    sleep(0.4);\n",
    "leds[0].on();  leds[1].on();  leds[2].on();  leds[3].on();\n",
    "sleep(0.4);\n",
    "leds[0].off(); leds[1].off(); leds[2].off(); leds[3].off();"
   ]
  },
  {
   "cell_type": "code",
   "execution_count": 6,
   "metadata": {},
   "outputs": [],
   "source": [
    "# Testing sws\n",
    "if (sws[0].read()==0) and (sws[1].read()==0):\n",
    "    rgbleds[0].on(3); rgbleds[1].on(7);\n",
    "elif (sws[0].read()==1) and (sws[1].read()==0):    \n",
    "    rgbleds[0].on(5); rgbleds[1].on(6);\n",
    "elif (sws[0].read()==0) and (sws[1].read()==1):    \n",
    "    rgbleds[0].on(6); rgbleds[1].on(5);\n",
    "elif (sws[0].read()==1) and (sws[1].read()==1):    \n",
    "    rgbleds[0].on(7); rgbleds[1].on(3);"
   ]
  },
  {
   "cell_type": "code",
   "execution_count": 7,
   "metadata": {},
   "outputs": [
    {
     "name": "stdout",
     "output_type": "stream",
     "text": [
      "0\n",
      "0\n",
      "0\n",
      "0\n"
     ]
    }
   ],
   "source": [
    "# Testing btns\n",
    "print(btns[0].read()); print(btns[1].read()); \n",
    "print(btns[2].read()); print(btns[3].read()); \n",
    "\n",
    "# btn[0], leds[0]\n",
    "if (btns[0].read() == 0):\n",
    "    leds[0].off();\n",
    "elif (btns[0].read() == 1):\n",
    "    leds[0].on();\n",
    "    \n",
    "# btn[1], leds[1]    \n",
    "if (btns[1].read() == 0):\n",
    "    leds[1].off();\n",
    "elif (btns[1].read() == 1):\n",
    "    leds[1].on();\n",
    "\n",
    "# btn[2], leds[2]    \n",
    "if (btns[2].read() == 0):\n",
    "    leds[2].off();\n",
    "elif (btns[2].read() == 1):\n",
    "    leds[2].on();\n",
    "    \n",
    "# btn[3], leds[3]    \n",
    "if (btns[3].read() == 0):\n",
    "    leds[3].off();\n",
    "elif (btns[3].read() == 1):\n",
    "    leds[3].on();\n"
   ]
  },
  {
   "cell_type": "code",
   "execution_count": null,
   "metadata": {},
   "outputs": [],
   "source": []
  },
  {
   "cell_type": "code",
   "execution_count": null,
   "metadata": {},
   "outputs": [],
   "source": []
  }
 ],
 "metadata": {
  "kernelspec": {
   "display_name": "Python 3",
   "language": "python",
   "name": "python3"
  },
  "language_info": {
   "codemirror_mode": {
    "name": "ipython",
    "version": 3
   },
   "file_extension": ".py",
   "mimetype": "text/x-python",
   "name": "python",
   "nbconvert_exporter": "python",
   "pygments_lexer": "ipython3",
   "version": "3.8.2"
  }
 },
 "nbformat": 4,
 "nbformat_minor": 1
}
