{
 "cells": [
  {
   "cell_type": "markdown",
   "id": "miRWXmg6TFjE",
   "metadata": {
    "id": "miRWXmg6TFjE"
   },
   "source": [
    "# Canny Edge Detection을 적용한 영상 처리 (Zybo-z7-20 Board)\n",
    "\n",
    "#### - 참고 사이트\n",
    "1. https://pynq.readthedocs.io/en/v2.1/pynq_overlays/base_overlay.html\n",
    "2. https://gitlab.com/dorfell/fer_sys_dev/-/tree/master/01_hw/Pynq_Zybo-Z7\n",
    "3. https://github.com/Xilinx/PYNQ/blob/master/boards/Pynq-Z1/base/notebooks/video/opencv_face_detect_webcam.ipynb\n",
    "4. https://github.com/ptoupas/amd-open-hardware-23"
   ]
  },
  {
   "cell_type": "markdown",
   "id": "2K0Yamk-SbER",
   "metadata": {
    "id": "2K0Yamk-SbER"
   },
   "source": [
    "0. 모니터에 출력할 영상 설정과 카메라 사용 여부 설정 (사용자 정의)"
   ]
  },
  {
   "cell_type": "code",
   "execution_count": 20,
   "id": "BQxcvQpSHCx3",
   "metadata": {
    "id": "BQxcvQpSHCx3"
   },
   "outputs": [],
   "source": [
    "# read video at 1280X720\n",
    "frame_w = 1280\n",
    "frame_h = 720\n",
    "\n",
    "# set video's length\n",
    "frame_cnt = 200\n",
    "\n",
    "# use camera or video file\n",
    "use_cam = False # if you're using a camera, set True, else, False.\n",
    "video_file = '/home/xilinx/jupyter_notebooks/overpass.mp4' # video file's path, https://url.kr/tcpeq7"
   ]
  },
  {
   "cell_type": "markdown",
   "id": "KCjyxoBxHUl_",
   "metadata": {
    "id": "KCjyxoBxHUl_"
   },
   "source": [
    "1. 패키지 불러오기"
   ]
  },
  {
   "cell_type": "code",
   "execution_count": 15,
   "id": "e07b76af",
   "metadata": {
    "id": "e07b76af"
   },
   "outputs": [],
   "source": [
    "from pynq.overlays.base import BaseOverlay\n",
    "from pynq.lib.video import *"
   ]
  },
  {
   "cell_type": "code",
   "execution_count": 16,
   "id": "lFlma6ypHY1A",
   "metadata": {
    "id": "lFlma6ypHY1A"
   },
   "outputs": [],
   "source": [
    "import cv2\n",
    "import math\n",
    "import numpy as np\n",
    "import time\n",
    "import os"
   ]
  },
  {
   "cell_type": "markdown",
   "id": "-LkWbiFASnsY",
   "metadata": {
    "id": "-LkWbiFASnsY"
   },
   "source": [
    "2. Base overlay를 다운받고 HDMI output 설정"
   ]
  },
  {
   "cell_type": "code",
   "execution_count": 17,
   "id": "051e90b0",
   "metadata": {
    "id": "051e90b0"
   },
   "outputs": [],
   "source": [
    "base = BaseOverlay(\"base.bit\")\n",
    "hdmi_out = base.video.hdmi_out"
   ]
  },
  {
   "cell_type": "markdown",
   "id": "APNLlk0nXnH8",
   "metadata": {
    "id": "APNLlk0nXnH8"
   },
   "source": [
    "4. 영상을 불러오고 HDMI 출력 활성화"
   ]
  },
  {
   "cell_type": "code",
   "execution_count": 18,
   "id": "20bf33e3",
   "metadata": {
    "id": "20bf33e3",
    "outputId": "9a814314-2b12-49e9-e57f-f773437458e2"
   },
   "outputs": [
    {
     "data": {
      "text/plain": [
       "<contextlib._GeneratorContextManager at 0xaf5d7f40>"
      ]
     },
     "execution_count": 18,
     "metadata": {},
     "output_type": "execute_result"
    }
   ],
   "source": [
    "# video capturing from video files, image sequences or cameras\n",
    "if use_cam : videoIn = cv2.VideoCapture(0)\n",
    "else: videoIn = cv2.VideoCapture(video_file)\n",
    "    \n",
    "# change the width and height of the video\n",
    "videoIn.set(cv2.CAP_PROP_FRAME_WIDTH, frame_w)\n",
    "videoIn.set(cv2.CAP_PROP_FRAME_HEIGHT, frame_h)\n",
    "\n",
    "# configure hdmi output\n",
    "mode = VideoMode(frame_w,frame_h,24)\n",
    "hdmi_out.configure(mode, PIXEL_RGB)\n",
    "hdmi_out.start()"
   ]
  },
  {
   "cell_type": "markdown",
   "id": "mjxf4HGgH7dP",
   "metadata": {
    "id": "mjxf4HGgH7dP"
   },
   "source": [
    "5. 영상을 불러왔는지 확인"
   ]
  },
  {
   "cell_type": "code",
   "execution_count": 19,
   "id": "46041d83",
   "metadata": {
    "id": "46041d83",
    "outputId": "5b440917-b050-4f50-eb89-e82b1a9e45d2"
   },
   "outputs": [
    {
     "name": "stdout",
     "output_type": "stream",
     "text": [
      "Capture device is open: True\n"
     ]
    }
   ],
   "source": [
    "print(\"Capture device is open: \" + str(videoIn.isOpened()))"
   ]
  },
  {
   "cell_type": "markdown",
   "id": "L6uTqn2VtBqA",
   "metadata": {
    "id": "L6uTqn2VtBqA"
   },
   "source": [
    "6. Canny Edge Detection 출력 결과"
   ]
  },
  {
   "cell_type": "code",
   "execution_count": null,
   "id": "Tk1uPR0KtAd0",
   "metadata": {
    "id": "Tk1uPR0KtAd0"
   },
   "outputs": [],
   "source": [
    "start_time = time.time()\n",
    "\n",
    "for _ in range(frame_cnt):\n",
    "    # Get a frame from video\n",
    "    ret, frame = videoIn.read()\n",
    "\n",
    "    if ret:\n",
    "      # filter\n",
    "      frame_out = hdmi_out.newframe()\n",
    "      cv2.Canny(frame, 100, 110, edges=frame_out)\n",
    "      hdmi_out.writeframe(frame_out)\n",
    "    else: break\n",
    "\n",
    "end_time = time.time()\n",
    "\n",
    "print('Runtime:',end_time-start_time,'FPS:',n_frames/(end_time-start_time))\n",
    "\n",
    "videoIn.release()\n",
    "hdmi_out.close()"
   ]
  }
 ],
 "metadata": {
  "colab": {
   "provenance": [
    {
     "file_id": "1g2clVp7z5v2rXCm7dFcxzmVJz5RlfoUk",
     "timestamp": 1702611494083
    }
   ]
  },
  "kernelspec": {
   "display_name": "Python 3",
   "language": "python",
   "name": "python3"
  },
  "language_info": {
   "codemirror_mode": {
    "name": "ipython",
    "version": 3
   },
   "file_extension": ".py",
   "mimetype": "text/x-python",
   "name": "python",
   "nbconvert_exporter": "python",
   "pygments_lexer": "ipython3",
   "version": "3.8.2"
  }
 },
 "nbformat": 4,
 "nbformat_minor": 5
}
